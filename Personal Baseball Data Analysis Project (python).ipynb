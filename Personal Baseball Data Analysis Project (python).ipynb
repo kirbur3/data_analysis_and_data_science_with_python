{
 "cells": [
  {
   "cell_type": "markdown",
   "id": "a1e035f7-19bf-4c8c-a92b-ea8990fe6bbb",
   "metadata": {},
   "source": [
    "# Fun Personal Project"
   ]
  },
  {
   "cell_type": "markdown",
   "id": "e9b47175-868f-4c41-9882-bcd3980b6fab",
   "metadata": {},
   "source": [
    "This is just a personal data analysis project that I did for fun.\n",
    "\n",
    "Source: This data is from: https://www.kaggle.com/datasets/joyshil0599/mlb-hitting-and-pitching-stats-through-the-years\n",
    "\n",
    "I am specifically only using the baseball_hitting.csv.\n",
    "\n",
    "Broad explanation of data: The person who published this dataset on kaggle, JOY SHIL, explains that this \"dataset on all-time baseball hitting and pitching provides a comprehensive collection of historical performance data in Major League Baseball (MLB)\"."
   ]
  },
  {
   "cell_type": "code",
   "execution_count": 3,
   "id": "496aaaba-0658-4a02-bc8a-aafdc4221212",
   "metadata": {},
   "outputs": [],
   "source": [
    "import pandas as pd"
   ]
  },
  {
   "cell_type": "code",
   "execution_count": 5,
   "id": "5ab4381c-4f62-4d58-9d73-3b8386607d33",
   "metadata": {},
   "outputs": [],
   "source": [
    "df_csv = pd.read_csv(\"baseball_hitting.csv\")"
   ]
  },
  {
   "cell_type": "code",
   "execution_count": 7,
   "id": "468d18d0-b4a5-4a38-976f-26e8006ea959",
   "metadata": {},
   "outputs": [
    {
     "data": {
      "text/html": [
       "<div>\n",
       "<style scoped>\n",
       "    .dataframe tbody tr th:only-of-type {\n",
       "        vertical-align: middle;\n",
       "    }\n",
       "\n",
       "    .dataframe tbody tr th {\n",
       "        vertical-align: top;\n",
       "    }\n",
       "\n",
       "    .dataframe thead th {\n",
       "        text-align: right;\n",
       "    }\n",
       "</style>\n",
       "<table border=\"1\" class=\"dataframe\">\n",
       "  <thead>\n",
       "    <tr style=\"text-align: right;\">\n",
       "      <th></th>\n",
       "      <th>Player name</th>\n",
       "      <th>position</th>\n",
       "      <th>Games</th>\n",
       "      <th>At-bat</th>\n",
       "      <th>Runs</th>\n",
       "      <th>Hits</th>\n",
       "      <th>Double (2B)</th>\n",
       "      <th>third baseman</th>\n",
       "      <th>home run</th>\n",
       "      <th>run batted in</th>\n",
       "      <th>a walk</th>\n",
       "      <th>Strikeouts</th>\n",
       "      <th>stolen base</th>\n",
       "      <th>Caught stealing</th>\n",
       "      <th>AVG</th>\n",
       "      <th>On-base Percentage</th>\n",
       "      <th>Slugging Percentage</th>\n",
       "      <th>On-base Plus Slugging</th>\n",
       "    </tr>\n",
       "  </thead>\n",
       "  <tbody>\n",
       "    <tr>\n",
       "      <th>0</th>\n",
       "      <td>B Bonds</td>\n",
       "      <td>LF</td>\n",
       "      <td>2986.0</td>\n",
       "      <td>9847.0</td>\n",
       "      <td>2227.0</td>\n",
       "      <td>2935.0</td>\n",
       "      <td>601.0</td>\n",
       "      <td>77.0</td>\n",
       "      <td>762.0</td>\n",
       "      <td>1996.0</td>\n",
       "      <td>2558.0</td>\n",
       "      <td>1539</td>\n",
       "      <td>514.0</td>\n",
       "      <td>141</td>\n",
       "      <td>0.298</td>\n",
       "      <td>0.444</td>\n",
       "      <td>0.607</td>\n",
       "      <td>1.051</td>\n",
       "    </tr>\n",
       "    <tr>\n",
       "      <th>1</th>\n",
       "      <td>H Aaron</td>\n",
       "      <td>RF</td>\n",
       "      <td>3298.0</td>\n",
       "      <td>12364.0</td>\n",
       "      <td>2174.0</td>\n",
       "      <td>3771.0</td>\n",
       "      <td>624.0</td>\n",
       "      <td>98.0</td>\n",
       "      <td>755.0</td>\n",
       "      <td>2297.0</td>\n",
       "      <td>1402.0</td>\n",
       "      <td>1383</td>\n",
       "      <td>240.0</td>\n",
       "      <td>73</td>\n",
       "      <td>0.305</td>\n",
       "      <td>0.374</td>\n",
       "      <td>0.555</td>\n",
       "      <td>0.929</td>\n",
       "    </tr>\n",
       "    <tr>\n",
       "      <th>2</th>\n",
       "      <td>B Ruth</td>\n",
       "      <td>RF</td>\n",
       "      <td>2504.0</td>\n",
       "      <td>8399.0</td>\n",
       "      <td>2174.0</td>\n",
       "      <td>2873.0</td>\n",
       "      <td>506.0</td>\n",
       "      <td>136.0</td>\n",
       "      <td>714.0</td>\n",
       "      <td>2213.0</td>\n",
       "      <td>2062.0</td>\n",
       "      <td>1330</td>\n",
       "      <td>123.0</td>\n",
       "      <td>117</td>\n",
       "      <td>0.342</td>\n",
       "      <td>0.474</td>\n",
       "      <td>0.690</td>\n",
       "      <td>1.164</td>\n",
       "    </tr>\n",
       "    <tr>\n",
       "      <th>3</th>\n",
       "      <td>A Pujols</td>\n",
       "      <td>1B</td>\n",
       "      <td>3080.0</td>\n",
       "      <td>11421.0</td>\n",
       "      <td>1914.0</td>\n",
       "      <td>3384.0</td>\n",
       "      <td>686.0</td>\n",
       "      <td>16.0</td>\n",
       "      <td>703.0</td>\n",
       "      <td>2218.0</td>\n",
       "      <td>1373.0</td>\n",
       "      <td>1404</td>\n",
       "      <td>117.0</td>\n",
       "      <td>43</td>\n",
       "      <td>0.296</td>\n",
       "      <td>0.374</td>\n",
       "      <td>0.544</td>\n",
       "      <td>0.918</td>\n",
       "    </tr>\n",
       "    <tr>\n",
       "      <th>4</th>\n",
       "      <td>A Rodriguez</td>\n",
       "      <td>SS</td>\n",
       "      <td>2784.0</td>\n",
       "      <td>10566.0</td>\n",
       "      <td>2021.0</td>\n",
       "      <td>3115.0</td>\n",
       "      <td>548.0</td>\n",
       "      <td>31.0</td>\n",
       "      <td>696.0</td>\n",
       "      <td>2086.0</td>\n",
       "      <td>1338.0</td>\n",
       "      <td>2287</td>\n",
       "      <td>329.0</td>\n",
       "      <td>76</td>\n",
       "      <td>0.295</td>\n",
       "      <td>0.380</td>\n",
       "      <td>0.550</td>\n",
       "      <td>0.930</td>\n",
       "    </tr>\n",
       "  </tbody>\n",
       "</table>\n",
       "</div>"
      ],
      "text/plain": [
       "   Player name position   Games   At-bat    Runs    Hits  Double (2B)  \\\n",
       "0      B Bonds       LF  2986.0   9847.0  2227.0  2935.0        601.0   \n",
       "1      H Aaron       RF  3298.0  12364.0  2174.0  3771.0        624.0   \n",
       "2       B Ruth       RF  2504.0   8399.0  2174.0  2873.0        506.0   \n",
       "3     A Pujols       1B  3080.0  11421.0  1914.0  3384.0        686.0   \n",
       "4  A Rodriguez       SS  2784.0  10566.0  2021.0  3115.0        548.0   \n",
       "\n",
       "   third baseman  home run  run batted in  a walk Strikeouts  stolen base   \\\n",
       "0           77.0     762.0         1996.0  2558.0       1539         514.0   \n",
       "1           98.0     755.0         2297.0  1402.0       1383         240.0   \n",
       "2          136.0     714.0         2213.0  2062.0       1330         123.0   \n",
       "3           16.0     703.0         2218.0  1373.0       1404         117.0   \n",
       "4           31.0     696.0         2086.0  1338.0       2287         329.0   \n",
       "\n",
       "  Caught stealing    AVG  On-base Percentage  Slugging Percentage  \\\n",
       "0             141  0.298               0.444                0.607   \n",
       "1              73  0.305               0.374                0.555   \n",
       "2             117  0.342               0.474                0.690   \n",
       "3              43  0.296               0.374                0.544   \n",
       "4              76  0.295               0.380                0.550   \n",
       "\n",
       "   On-base Plus Slugging  \n",
       "0                  1.051  \n",
       "1                  0.929  \n",
       "2                  1.164  \n",
       "3                  0.918  \n",
       "4                  0.930  "
      ]
     },
     "execution_count": 7,
     "metadata": {},
     "output_type": "execute_result"
    }
   ],
   "source": [
    "df_csv.head()"
   ]
  },
  {
   "cell_type": "markdown",
   "id": "090a9504-cd3c-436a-8a1c-038255b0926f",
   "metadata": {},
   "source": [
    "#### counting the amount of players"
   ]
  },
  {
   "cell_type": "code",
   "execution_count": 10,
   "id": "fdc63273-e749-44cd-b1f4-76e50011abba",
   "metadata": {},
   "outputs": [
    {
     "data": {
      "text/plain": [
       "2500"
      ]
     },
     "execution_count": 10,
     "metadata": {},
     "output_type": "execute_result"
    }
   ],
   "source": [
    "df_csv['Player name'].count()"
   ]
  },
  {
   "cell_type": "markdown",
   "id": "83388811-bf93-4a3d-838d-fbf19159cf27",
   "metadata": {},
   "source": [
    "#### renaming the columns"
   ]
  },
  {
   "cell_type": "code",
   "execution_count": 13,
   "id": "814dfaba-07ea-46b0-acce-f267fc200d82",
   "metadata": {},
   "outputs": [
    {
     "data": {
      "text/html": [
       "<div>\n",
       "<style scoped>\n",
       "    .dataframe tbody tr th:only-of-type {\n",
       "        vertical-align: middle;\n",
       "    }\n",
       "\n",
       "    .dataframe tbody tr th {\n",
       "        vertical-align: top;\n",
       "    }\n",
       "\n",
       "    .dataframe thead th {\n",
       "        text-align: right;\n",
       "    }\n",
       "</style>\n",
       "<table border=\"1\" class=\"dataframe\">\n",
       "  <thead>\n",
       "    <tr style=\"text-align: right;\">\n",
       "      <th></th>\n",
       "      <th>player_name</th>\n",
       "      <th>position</th>\n",
       "      <th>Games</th>\n",
       "      <th>At_bat</th>\n",
       "      <th>Runs</th>\n",
       "      <th>Hits</th>\n",
       "      <th>double_2B</th>\n",
       "      <th>third_baseman</th>\n",
       "      <th>home_run</th>\n",
       "      <th>run_batted_in</th>\n",
       "      <th>a_walk</th>\n",
       "      <th>Strikeouts</th>\n",
       "      <th>stolen base</th>\n",
       "      <th>caught_stealing</th>\n",
       "      <th>AVG</th>\n",
       "      <th>on_base_percentage</th>\n",
       "      <th>slugging_percentage</th>\n",
       "      <th>on_base_plus_slugging</th>\n",
       "    </tr>\n",
       "  </thead>\n",
       "  <tbody>\n",
       "    <tr>\n",
       "      <th>0</th>\n",
       "      <td>B Bonds</td>\n",
       "      <td>LF</td>\n",
       "      <td>2986.0</td>\n",
       "      <td>9847.0</td>\n",
       "      <td>2227.0</td>\n",
       "      <td>2935.0</td>\n",
       "      <td>601.0</td>\n",
       "      <td>77.0</td>\n",
       "      <td>762.0</td>\n",
       "      <td>1996.0</td>\n",
       "      <td>2558.0</td>\n",
       "      <td>1539</td>\n",
       "      <td>514.0</td>\n",
       "      <td>141</td>\n",
       "      <td>0.298</td>\n",
       "      <td>0.444</td>\n",
       "      <td>0.607</td>\n",
       "      <td>1.051</td>\n",
       "    </tr>\n",
       "    <tr>\n",
       "      <th>1</th>\n",
       "      <td>H Aaron</td>\n",
       "      <td>RF</td>\n",
       "      <td>3298.0</td>\n",
       "      <td>12364.0</td>\n",
       "      <td>2174.0</td>\n",
       "      <td>3771.0</td>\n",
       "      <td>624.0</td>\n",
       "      <td>98.0</td>\n",
       "      <td>755.0</td>\n",
       "      <td>2297.0</td>\n",
       "      <td>1402.0</td>\n",
       "      <td>1383</td>\n",
       "      <td>240.0</td>\n",
       "      <td>73</td>\n",
       "      <td>0.305</td>\n",
       "      <td>0.374</td>\n",
       "      <td>0.555</td>\n",
       "      <td>0.929</td>\n",
       "    </tr>\n",
       "    <tr>\n",
       "      <th>2</th>\n",
       "      <td>B Ruth</td>\n",
       "      <td>RF</td>\n",
       "      <td>2504.0</td>\n",
       "      <td>8399.0</td>\n",
       "      <td>2174.0</td>\n",
       "      <td>2873.0</td>\n",
       "      <td>506.0</td>\n",
       "      <td>136.0</td>\n",
       "      <td>714.0</td>\n",
       "      <td>2213.0</td>\n",
       "      <td>2062.0</td>\n",
       "      <td>1330</td>\n",
       "      <td>123.0</td>\n",
       "      <td>117</td>\n",
       "      <td>0.342</td>\n",
       "      <td>0.474</td>\n",
       "      <td>0.690</td>\n",
       "      <td>1.164</td>\n",
       "    </tr>\n",
       "    <tr>\n",
       "      <th>3</th>\n",
       "      <td>A Pujols</td>\n",
       "      <td>1B</td>\n",
       "      <td>3080.0</td>\n",
       "      <td>11421.0</td>\n",
       "      <td>1914.0</td>\n",
       "      <td>3384.0</td>\n",
       "      <td>686.0</td>\n",
       "      <td>16.0</td>\n",
       "      <td>703.0</td>\n",
       "      <td>2218.0</td>\n",
       "      <td>1373.0</td>\n",
       "      <td>1404</td>\n",
       "      <td>117.0</td>\n",
       "      <td>43</td>\n",
       "      <td>0.296</td>\n",
       "      <td>0.374</td>\n",
       "      <td>0.544</td>\n",
       "      <td>0.918</td>\n",
       "    </tr>\n",
       "    <tr>\n",
       "      <th>4</th>\n",
       "      <td>A Rodriguez</td>\n",
       "      <td>SS</td>\n",
       "      <td>2784.0</td>\n",
       "      <td>10566.0</td>\n",
       "      <td>2021.0</td>\n",
       "      <td>3115.0</td>\n",
       "      <td>548.0</td>\n",
       "      <td>31.0</td>\n",
       "      <td>696.0</td>\n",
       "      <td>2086.0</td>\n",
       "      <td>1338.0</td>\n",
       "      <td>2287</td>\n",
       "      <td>329.0</td>\n",
       "      <td>76</td>\n",
       "      <td>0.295</td>\n",
       "      <td>0.380</td>\n",
       "      <td>0.550</td>\n",
       "      <td>0.930</td>\n",
       "    </tr>\n",
       "  </tbody>\n",
       "</table>\n",
       "</div>"
      ],
      "text/plain": [
       "   player_name position   Games   At_bat    Runs    Hits  double_2B  \\\n",
       "0      B Bonds       LF  2986.0   9847.0  2227.0  2935.0      601.0   \n",
       "1      H Aaron       RF  3298.0  12364.0  2174.0  3771.0      624.0   \n",
       "2       B Ruth       RF  2504.0   8399.0  2174.0  2873.0      506.0   \n",
       "3     A Pujols       1B  3080.0  11421.0  1914.0  3384.0      686.0   \n",
       "4  A Rodriguez       SS  2784.0  10566.0  2021.0  3115.0      548.0   \n",
       "\n",
       "   third_baseman  home_run  run_batted_in  a_walk Strikeouts  stolen base   \\\n",
       "0           77.0     762.0         1996.0  2558.0       1539         514.0   \n",
       "1           98.0     755.0         2297.0  1402.0       1383         240.0   \n",
       "2          136.0     714.0         2213.0  2062.0       1330         123.0   \n",
       "3           16.0     703.0         2218.0  1373.0       1404         117.0   \n",
       "4           31.0     696.0         2086.0  1338.0       2287         329.0   \n",
       "\n",
       "  caught_stealing    AVG  on_base_percentage  slugging_percentage  \\\n",
       "0             141  0.298               0.444                0.607   \n",
       "1              73  0.305               0.374                0.555   \n",
       "2             117  0.342               0.474                0.690   \n",
       "3              43  0.296               0.374                0.544   \n",
       "4              76  0.295               0.380                0.550   \n",
       "\n",
       "   on_base_plus_slugging  \n",
       "0                  1.051  \n",
       "1                  0.929  \n",
       "2                  1.164  \n",
       "3                  0.918  \n",
       "4                  0.930  "
      ]
     },
     "execution_count": 13,
     "metadata": {},
     "output_type": "execute_result"
    }
   ],
   "source": [
    "df_1 = df_csv.rename(columns = {'Player name': 'player_name'})\n",
    "df_2 = df_1.rename(columns = {'Double (2B)': 'double_2B'})\n",
    "df_3 = df_2.rename(columns = {'third baseman': 'third_baseman'})\n",
    "df_4 = df_3.rename(columns = {'home run': 'home_run'})\n",
    "df_5 = df_4.rename(columns = {'run batted in': 'run_batted_in'})\n",
    "df_6 = df_5.rename(columns = {'a walk': 'a_walk'})\n",
    "df_7 = df_6.rename(columns = {'stolen base': 'stolen_base'})\n",
    "df_8 = df_7.rename(columns = {'Caught stealing': 'caught_stealing'})\n",
    "df_9 = df_8.rename(columns = {'On-base Percentage': 'on_base_percentage'})\n",
    "df_10 = df_9.rename(columns = {'Slugging Percentage': 'slugging_percentage'})\n",
    "df_11 = df_10.rename(columns = {'On-base Plus Slugging': 'on_base_plus_slugging'})\n",
    "df = df_11.rename(columns = {'At-bat': 'At_bat'}) #final dataframe with all the last changes\n",
    "\n",
    "df.head()"
   ]
  },
  {
   "cell_type": "markdown",
   "id": "99603602-ee32-4d65-beb9-80ded1d90ced",
   "metadata": {},
   "source": [
    "### 1. find the players that have at least 700 home runs"
   ]
  },
  {
   "cell_type": "code",
   "execution_count": 16,
   "id": "03d664cc-d7d4-43b7-8402-c1e81c2c6966",
   "metadata": {},
   "outputs": [
    {
     "data": {
      "text/html": [
       "<div>\n",
       "<style scoped>\n",
       "    .dataframe tbody tr th:only-of-type {\n",
       "        vertical-align: middle;\n",
       "    }\n",
       "\n",
       "    .dataframe tbody tr th {\n",
       "        vertical-align: top;\n",
       "    }\n",
       "\n",
       "    .dataframe thead th {\n",
       "        text-align: right;\n",
       "    }\n",
       "</style>\n",
       "<table border=\"1\" class=\"dataframe\">\n",
       "  <thead>\n",
       "    <tr style=\"text-align: right;\">\n",
       "      <th></th>\n",
       "      <th>player_name</th>\n",
       "      <th>position</th>\n",
       "      <th>Games</th>\n",
       "      <th>At_bat</th>\n",
       "      <th>Runs</th>\n",
       "      <th>Hits</th>\n",
       "      <th>double_2B</th>\n",
       "      <th>third_baseman</th>\n",
       "      <th>home_run</th>\n",
       "      <th>run_batted_in</th>\n",
       "      <th>a_walk</th>\n",
       "      <th>Strikeouts</th>\n",
       "      <th>stolen base</th>\n",
       "      <th>caught_stealing</th>\n",
       "      <th>AVG</th>\n",
       "      <th>on_base_percentage</th>\n",
       "      <th>slugging_percentage</th>\n",
       "      <th>on_base_plus_slugging</th>\n",
       "    </tr>\n",
       "  </thead>\n",
       "  <tbody>\n",
       "    <tr>\n",
       "      <th>0</th>\n",
       "      <td>B Bonds</td>\n",
       "      <td>LF</td>\n",
       "      <td>2986.0</td>\n",
       "      <td>9847.0</td>\n",
       "      <td>2227.0</td>\n",
       "      <td>2935.0</td>\n",
       "      <td>601.0</td>\n",
       "      <td>77.0</td>\n",
       "      <td>762.0</td>\n",
       "      <td>1996.0</td>\n",
       "      <td>2558.0</td>\n",
       "      <td>1539</td>\n",
       "      <td>514.0</td>\n",
       "      <td>141</td>\n",
       "      <td>0.298</td>\n",
       "      <td>0.444</td>\n",
       "      <td>0.607</td>\n",
       "      <td>1.051</td>\n",
       "    </tr>\n",
       "    <tr>\n",
       "      <th>1</th>\n",
       "      <td>H Aaron</td>\n",
       "      <td>RF</td>\n",
       "      <td>3298.0</td>\n",
       "      <td>12364.0</td>\n",
       "      <td>2174.0</td>\n",
       "      <td>3771.0</td>\n",
       "      <td>624.0</td>\n",
       "      <td>98.0</td>\n",
       "      <td>755.0</td>\n",
       "      <td>2297.0</td>\n",
       "      <td>1402.0</td>\n",
       "      <td>1383</td>\n",
       "      <td>240.0</td>\n",
       "      <td>73</td>\n",
       "      <td>0.305</td>\n",
       "      <td>0.374</td>\n",
       "      <td>0.555</td>\n",
       "      <td>0.929</td>\n",
       "    </tr>\n",
       "    <tr>\n",
       "      <th>2</th>\n",
       "      <td>B Ruth</td>\n",
       "      <td>RF</td>\n",
       "      <td>2504.0</td>\n",
       "      <td>8399.0</td>\n",
       "      <td>2174.0</td>\n",
       "      <td>2873.0</td>\n",
       "      <td>506.0</td>\n",
       "      <td>136.0</td>\n",
       "      <td>714.0</td>\n",
       "      <td>2213.0</td>\n",
       "      <td>2062.0</td>\n",
       "      <td>1330</td>\n",
       "      <td>123.0</td>\n",
       "      <td>117</td>\n",
       "      <td>0.342</td>\n",
       "      <td>0.474</td>\n",
       "      <td>0.690</td>\n",
       "      <td>1.164</td>\n",
       "    </tr>\n",
       "    <tr>\n",
       "      <th>3</th>\n",
       "      <td>A Pujols</td>\n",
       "      <td>1B</td>\n",
       "      <td>3080.0</td>\n",
       "      <td>11421.0</td>\n",
       "      <td>1914.0</td>\n",
       "      <td>3384.0</td>\n",
       "      <td>686.0</td>\n",
       "      <td>16.0</td>\n",
       "      <td>703.0</td>\n",
       "      <td>2218.0</td>\n",
       "      <td>1373.0</td>\n",
       "      <td>1404</td>\n",
       "      <td>117.0</td>\n",
       "      <td>43</td>\n",
       "      <td>0.296</td>\n",
       "      <td>0.374</td>\n",
       "      <td>0.544</td>\n",
       "      <td>0.918</td>\n",
       "    </tr>\n",
       "  </tbody>\n",
       "</table>\n",
       "</div>"
      ],
      "text/plain": [
       "  player_name position   Games   At_bat    Runs    Hits  double_2B  \\\n",
       "0     B Bonds       LF  2986.0   9847.0  2227.0  2935.0      601.0   \n",
       "1     H Aaron       RF  3298.0  12364.0  2174.0  3771.0      624.0   \n",
       "2      B Ruth       RF  2504.0   8399.0  2174.0  2873.0      506.0   \n",
       "3    A Pujols       1B  3080.0  11421.0  1914.0  3384.0      686.0   \n",
       "\n",
       "   third_baseman  home_run  run_batted_in  a_walk Strikeouts  stolen base   \\\n",
       "0           77.0     762.0         1996.0  2558.0       1539         514.0   \n",
       "1           98.0     755.0         2297.0  1402.0       1383         240.0   \n",
       "2          136.0     714.0         2213.0  2062.0       1330         123.0   \n",
       "3           16.0     703.0         2218.0  1373.0       1404         117.0   \n",
       "\n",
       "  caught_stealing    AVG  on_base_percentage  slugging_percentage  \\\n",
       "0             141  0.298               0.444                0.607   \n",
       "1              73  0.305               0.374                0.555   \n",
       "2             117  0.342               0.474                0.690   \n",
       "3              43  0.296               0.374                0.544   \n",
       "\n",
       "   on_base_plus_slugging  \n",
       "0                  1.051  \n",
       "1                  0.929  \n",
       "2                  1.164  \n",
       "3                  0.918  "
      ]
     },
     "execution_count": 16,
     "metadata": {},
     "output_type": "execute_result"
    }
   ],
   "source": [
    "df[df['home_run'] >= 700.0]"
   ]
  },
  {
   "cell_type": "markdown",
   "id": "7765939d-7996-4847-94ec-4563bc7083ff",
   "metadata": {},
   "source": [
    "### 2. find the players who have batted more than 2000 runs in #print(df.dtypes) "
   ]
  },
  {
   "cell_type": "code",
   "execution_count": 19,
   "id": "70284d39-cfda-4079-8973-8f19f505edfa",
   "metadata": {},
   "outputs": [
    {
     "name": "stdout",
     "output_type": "stream",
     "text": [
      "player_name               object\n",
      "position                  object\n",
      "Games                    float64\n",
      "At_bat                   float64\n",
      "Runs                     float64\n",
      "Hits                     float64\n",
      "double_2B                float64\n",
      "third_baseman            float64\n",
      "home_run                 float64\n",
      "run_batted_in            float64\n",
      "a_walk                   float64\n",
      "Strikeouts                object\n",
      "stolen base              float64\n",
      "caught_stealing           object\n",
      "AVG                      float64\n",
      "on_base_percentage       float64\n",
      "slugging_percentage      float64\n",
      "on_base_plus_slugging    float64\n",
      "dtype: object\n"
     ]
    }
   ],
   "source": [
    "print(df.dtypes) "
   ]
  },
  {
   "cell_type": "code",
   "execution_count": 21,
   "id": "cacf97b9-2c22-4d78-9e0e-62efa997e390",
   "metadata": {},
   "outputs": [
    {
     "data": {
      "text/html": [
       "<div>\n",
       "<style scoped>\n",
       "    .dataframe tbody tr th:only-of-type {\n",
       "        vertical-align: middle;\n",
       "    }\n",
       "\n",
       "    .dataframe tbody tr th {\n",
       "        vertical-align: top;\n",
       "    }\n",
       "\n",
       "    .dataframe thead th {\n",
       "        text-align: right;\n",
       "    }\n",
       "</style>\n",
       "<table border=\"1\" class=\"dataframe\">\n",
       "  <thead>\n",
       "    <tr style=\"text-align: right;\">\n",
       "      <th></th>\n",
       "      <th>player_name</th>\n",
       "      <th>position</th>\n",
       "      <th>Games</th>\n",
       "      <th>At_bat</th>\n",
       "      <th>Runs</th>\n",
       "      <th>Hits</th>\n",
       "      <th>double_2B</th>\n",
       "      <th>third_baseman</th>\n",
       "      <th>home_run</th>\n",
       "      <th>run_batted_in</th>\n",
       "      <th>a_walk</th>\n",
       "      <th>Strikeouts</th>\n",
       "      <th>stolen base</th>\n",
       "      <th>caught_stealing</th>\n",
       "      <th>AVG</th>\n",
       "      <th>on_base_percentage</th>\n",
       "      <th>slugging_percentage</th>\n",
       "      <th>on_base_plus_slugging</th>\n",
       "    </tr>\n",
       "  </thead>\n",
       "  <tbody>\n",
       "    <tr>\n",
       "      <th>1</th>\n",
       "      <td>H Aaron</td>\n",
       "      <td>RF</td>\n",
       "      <td>3298.0</td>\n",
       "      <td>12364.0</td>\n",
       "      <td>2174.0</td>\n",
       "      <td>3771.0</td>\n",
       "      <td>624.0</td>\n",
       "      <td>98.0</td>\n",
       "      <td>755.0</td>\n",
       "      <td>2297.0</td>\n",
       "      <td>1402.0</td>\n",
       "      <td>1383</td>\n",
       "      <td>240.0</td>\n",
       "      <td>73</td>\n",
       "      <td>0.305</td>\n",
       "      <td>0.374</td>\n",
       "      <td>0.555</td>\n",
       "      <td>0.929</td>\n",
       "    </tr>\n",
       "    <tr>\n",
       "      <th>2</th>\n",
       "      <td>B Ruth</td>\n",
       "      <td>RF</td>\n",
       "      <td>2504.0</td>\n",
       "      <td>8399.0</td>\n",
       "      <td>2174.0</td>\n",
       "      <td>2873.0</td>\n",
       "      <td>506.0</td>\n",
       "      <td>136.0</td>\n",
       "      <td>714.0</td>\n",
       "      <td>2213.0</td>\n",
       "      <td>2062.0</td>\n",
       "      <td>1330</td>\n",
       "      <td>123.0</td>\n",
       "      <td>117</td>\n",
       "      <td>0.342</td>\n",
       "      <td>0.474</td>\n",
       "      <td>0.690</td>\n",
       "      <td>1.164</td>\n",
       "    </tr>\n",
       "    <tr>\n",
       "      <th>3</th>\n",
       "      <td>A Pujols</td>\n",
       "      <td>1B</td>\n",
       "      <td>3080.0</td>\n",
       "      <td>11421.0</td>\n",
       "      <td>1914.0</td>\n",
       "      <td>3384.0</td>\n",
       "      <td>686.0</td>\n",
       "      <td>16.0</td>\n",
       "      <td>703.0</td>\n",
       "      <td>2218.0</td>\n",
       "      <td>1373.0</td>\n",
       "      <td>1404</td>\n",
       "      <td>117.0</td>\n",
       "      <td>43</td>\n",
       "      <td>0.296</td>\n",
       "      <td>0.374</td>\n",
       "      <td>0.544</td>\n",
       "      <td>0.918</td>\n",
       "    </tr>\n",
       "    <tr>\n",
       "      <th>4</th>\n",
       "      <td>A Rodriguez</td>\n",
       "      <td>SS</td>\n",
       "      <td>2784.0</td>\n",
       "      <td>10566.0</td>\n",
       "      <td>2021.0</td>\n",
       "      <td>3115.0</td>\n",
       "      <td>548.0</td>\n",
       "      <td>31.0</td>\n",
       "      <td>696.0</td>\n",
       "      <td>2086.0</td>\n",
       "      <td>1338.0</td>\n",
       "      <td>2287</td>\n",
       "      <td>329.0</td>\n",
       "      <td>76</td>\n",
       "      <td>0.295</td>\n",
       "      <td>0.380</td>\n",
       "      <td>0.550</td>\n",
       "      <td>0.930</td>\n",
       "    </tr>\n",
       "  </tbody>\n",
       "</table>\n",
       "</div>"
      ],
      "text/plain": [
       "   player_name position   Games   At_bat    Runs    Hits  double_2B  \\\n",
       "1      H Aaron       RF  3298.0  12364.0  2174.0  3771.0      624.0   \n",
       "2       B Ruth       RF  2504.0   8399.0  2174.0  2873.0      506.0   \n",
       "3     A Pujols       1B  3080.0  11421.0  1914.0  3384.0      686.0   \n",
       "4  A Rodriguez       SS  2784.0  10566.0  2021.0  3115.0      548.0   \n",
       "\n",
       "   third_baseman  home_run  run_batted_in  a_walk Strikeouts  stolen base   \\\n",
       "1           98.0     755.0         2297.0  1402.0       1383         240.0   \n",
       "2          136.0     714.0         2213.0  2062.0       1330         123.0   \n",
       "3           16.0     703.0         2218.0  1373.0       1404         117.0   \n",
       "4           31.0     696.0         2086.0  1338.0       2287         329.0   \n",
       "\n",
       "  caught_stealing    AVG  on_base_percentage  slugging_percentage  \\\n",
       "1              73  0.305               0.374                0.555   \n",
       "2             117  0.342               0.474                0.690   \n",
       "3              43  0.296               0.374                0.544   \n",
       "4              76  0.295               0.380                0.550   \n",
       "\n",
       "   on_base_plus_slugging  \n",
       "1                  0.929  \n",
       "2                  1.164  \n",
       "3                  0.918  \n",
       "4                  0.930  "
      ]
     },
     "execution_count": 21,
     "metadata": {},
     "output_type": "execute_result"
    }
   ],
   "source": [
    "df[df['run_batted_in'] >= 2000.0]"
   ]
  },
  {
   "cell_type": "markdown",
   "id": "7edcb290-0449-4fd1-bfd3-a22f9cc8ed5f",
   "metadata": {},
   "source": [
    "### 3. find the average amount of games played by these players"
   ]
  },
  {
   "cell_type": "code",
   "execution_count": 24,
   "id": "1d199340-818c-48cc-8124-f5ed5940b9ca",
   "metadata": {},
   "outputs": [
    {
     "data": {
      "text/plain": [
       "1084.558"
      ]
     },
     "execution_count": 24,
     "metadata": {},
     "output_type": "execute_result"
    }
   ],
   "source": [
    "df.Games.mean()"
   ]
  },
  {
   "cell_type": "markdown",
   "id": "cf0f992d-6e74-4168-8d9e-f49a1ad89c44",
   "metadata": {},
   "source": [
    "### 4. find the average amount of at-bats between these players"
   ]
  },
  {
   "cell_type": "code",
   "execution_count": 27,
   "id": "cd040afc-a682-4282-ae86-69b8074b51d2",
   "metadata": {},
   "outputs": [
    {
     "data": {
      "text/plain": [
       "3714.962"
      ]
     },
     "execution_count": 27,
     "metadata": {},
     "output_type": "execute_result"
    }
   ],
   "source": [
    "df.At_bat.mean()"
   ]
  },
  {
   "cell_type": "markdown",
   "id": "cc368741-8586-461c-b659-f65e59ce7746",
   "metadata": {},
   "source": [
    "### 5. find the standard deviation of these players getting walked"
   ]
  },
  {
   "cell_type": "code",
   "execution_count": 30,
   "id": "968ad825-e497-4bf2-beb2-31e01098fabe",
   "metadata": {},
   "outputs": [
    {
     "data": {
      "text/plain": [
       "297.48089570478896"
      ]
     },
     "execution_count": 30,
     "metadata": {},
     "output_type": "execute_result"
    }
   ],
   "source": [
    "df.a_walk.std()"
   ]
  },
  {
   "cell_type": "markdown",
   "id": "011c0c1c-2c9f-4b91-885c-b33e0223e15f",
   "metadata": {},
   "source": [
    "Explanation/Observations: Since the standard deviation is a large number, that means the data is pretty spread out. Therefore, the amount of walks these players got varies greatly."
   ]
  },
  {
   "cell_type": "markdown",
   "id": "5e59393f-b17a-44f6-8c31-bf326f5914c0",
   "metadata": {},
   "source": [
    "### 6. find the variance of these players getting a double"
   ]
  },
  {
   "cell_type": "code",
   "execution_count": 34,
   "id": "1c6773b8-b0fc-4189-97c3-06dc75f528bb",
   "metadata": {},
   "outputs": [
    {
     "data": {
      "text/plain": [
       "15493.844173669526"
      ]
     },
     "execution_count": 34,
     "metadata": {},
     "output_type": "execute_result"
    }
   ],
   "source": [
    "df.double_2B.var()"
   ]
  },
  {
   "cell_type": "markdown",
   "id": "ae401cae-c8e7-4e2c-ba66-a533594d74ec",
   "metadata": {},
   "source": [
    "Explanation/Observations: Since this is a large variance, that means that the data is pretty spread out from the mean. Therefore, the amount of doubles that these players hit varies greatly."
   ]
  },
  {
   "cell_type": "markdown",
   "id": "a9120d66-5726-4bf1-abfe-b214b5997279",
   "metadata": {},
   "source": [
    "### 7. find which of these players made the most homeruns"
   ]
  },
  {
   "cell_type": "code",
   "execution_count": 38,
   "id": "c34c1bae-8203-45db-895a-e92062137e51",
   "metadata": {},
   "outputs": [
    {
     "name": "stdout",
     "output_type": "stream",
     "text": [
      "762.0\n"
     ]
    }
   ],
   "source": [
    "max_homeruns = df['home_run'].max() #finding max amount of homeruns made by a player(s)\n",
    "print(max_homeruns)"
   ]
  },
  {
   "cell_type": "code",
   "execution_count": 40,
   "id": "50a5cc22-8f96-430b-a642-fe1ca5991a03",
   "metadata": {},
   "outputs": [
    {
     "data": {
      "text/html": [
       "<div>\n",
       "<style scoped>\n",
       "    .dataframe tbody tr th:only-of-type {\n",
       "        vertical-align: middle;\n",
       "    }\n",
       "\n",
       "    .dataframe tbody tr th {\n",
       "        vertical-align: top;\n",
       "    }\n",
       "\n",
       "    .dataframe thead th {\n",
       "        text-align: right;\n",
       "    }\n",
       "</style>\n",
       "<table border=\"1\" class=\"dataframe\">\n",
       "  <thead>\n",
       "    <tr style=\"text-align: right;\">\n",
       "      <th></th>\n",
       "      <th>player_name</th>\n",
       "      <th>position</th>\n",
       "      <th>Games</th>\n",
       "      <th>At_bat</th>\n",
       "      <th>Runs</th>\n",
       "      <th>Hits</th>\n",
       "      <th>double_2B</th>\n",
       "      <th>third_baseman</th>\n",
       "      <th>home_run</th>\n",
       "      <th>run_batted_in</th>\n",
       "      <th>a_walk</th>\n",
       "      <th>Strikeouts</th>\n",
       "      <th>stolen base</th>\n",
       "      <th>caught_stealing</th>\n",
       "      <th>AVG</th>\n",
       "      <th>on_base_percentage</th>\n",
       "      <th>slugging_percentage</th>\n",
       "      <th>on_base_plus_slugging</th>\n",
       "    </tr>\n",
       "  </thead>\n",
       "  <tbody>\n",
       "    <tr>\n",
       "      <th>0</th>\n",
       "      <td>B Bonds</td>\n",
       "      <td>LF</td>\n",
       "      <td>2986.0</td>\n",
       "      <td>9847.0</td>\n",
       "      <td>2227.0</td>\n",
       "      <td>2935.0</td>\n",
       "      <td>601.0</td>\n",
       "      <td>77.0</td>\n",
       "      <td>762.0</td>\n",
       "      <td>1996.0</td>\n",
       "      <td>2558.0</td>\n",
       "      <td>1539</td>\n",
       "      <td>514.0</td>\n",
       "      <td>141</td>\n",
       "      <td>0.298</td>\n",
       "      <td>0.444</td>\n",
       "      <td>0.607</td>\n",
       "      <td>1.051</td>\n",
       "    </tr>\n",
       "  </tbody>\n",
       "</table>\n",
       "</div>"
      ],
      "text/plain": [
       "  player_name position   Games  At_bat    Runs    Hits  double_2B  \\\n",
       "0     B Bonds       LF  2986.0  9847.0  2227.0  2935.0      601.0   \n",
       "\n",
       "   third_baseman  home_run  run_batted_in  a_walk Strikeouts  stolen base   \\\n",
       "0           77.0     762.0         1996.0  2558.0       1539         514.0   \n",
       "\n",
       "  caught_stealing    AVG  on_base_percentage  slugging_percentage  \\\n",
       "0             141  0.298               0.444                0.607   \n",
       "\n",
       "   on_base_plus_slugging  \n",
       "0                  1.051  "
      ]
     },
     "execution_count": 40,
     "metadata": {},
     "output_type": "execute_result"
    }
   ],
   "source": [
    "df[df['home_run'] == max_homeruns] #finding which player(s) hit the max_homeruns"
   ]
  },
  {
   "cell_type": "markdown",
   "id": "84783082-5fc1-4ad6-b985-8d6ebe81ecef",
   "metadata": {},
   "source": [
    "### 8. find which of these players got the most runs batted in"
   ]
  },
  {
   "cell_type": "code",
   "execution_count": 43,
   "id": "b81ff9d1-99f6-485e-bc0d-76bba1839076",
   "metadata": {},
   "outputs": [
    {
     "name": "stdout",
     "output_type": "stream",
     "text": [
      "2297.0\n"
     ]
    }
   ],
   "source": [
    "max_runsbattedin = df['run_batted_in'].max() #finding max amount of runs batted in by a player(s)\n",
    "print(max_runsbattedin)"
   ]
  },
  {
   "cell_type": "code",
   "execution_count": 45,
   "id": "47567ee5-3acf-40e3-94b0-306f46386805",
   "metadata": {},
   "outputs": [
    {
     "data": {
      "text/html": [
       "<div>\n",
       "<style scoped>\n",
       "    .dataframe tbody tr th:only-of-type {\n",
       "        vertical-align: middle;\n",
       "    }\n",
       "\n",
       "    .dataframe tbody tr th {\n",
       "        vertical-align: top;\n",
       "    }\n",
       "\n",
       "    .dataframe thead th {\n",
       "        text-align: right;\n",
       "    }\n",
       "</style>\n",
       "<table border=\"1\" class=\"dataframe\">\n",
       "  <thead>\n",
       "    <tr style=\"text-align: right;\">\n",
       "      <th></th>\n",
       "      <th>player_name</th>\n",
       "      <th>position</th>\n",
       "      <th>Games</th>\n",
       "      <th>At_bat</th>\n",
       "      <th>Runs</th>\n",
       "      <th>Hits</th>\n",
       "      <th>double_2B</th>\n",
       "      <th>third_baseman</th>\n",
       "      <th>home_run</th>\n",
       "      <th>run_batted_in</th>\n",
       "      <th>a_walk</th>\n",
       "      <th>Strikeouts</th>\n",
       "      <th>stolen base</th>\n",
       "      <th>caught_stealing</th>\n",
       "      <th>AVG</th>\n",
       "      <th>on_base_percentage</th>\n",
       "      <th>slugging_percentage</th>\n",
       "      <th>on_base_plus_slugging</th>\n",
       "    </tr>\n",
       "  </thead>\n",
       "  <tbody>\n",
       "    <tr>\n",
       "      <th>1</th>\n",
       "      <td>H Aaron</td>\n",
       "      <td>RF</td>\n",
       "      <td>3298.0</td>\n",
       "      <td>12364.0</td>\n",
       "      <td>2174.0</td>\n",
       "      <td>3771.0</td>\n",
       "      <td>624.0</td>\n",
       "      <td>98.0</td>\n",
       "      <td>755.0</td>\n",
       "      <td>2297.0</td>\n",
       "      <td>1402.0</td>\n",
       "      <td>1383</td>\n",
       "      <td>240.0</td>\n",
       "      <td>73</td>\n",
       "      <td>0.305</td>\n",
       "      <td>0.374</td>\n",
       "      <td>0.555</td>\n",
       "      <td>0.929</td>\n",
       "    </tr>\n",
       "  </tbody>\n",
       "</table>\n",
       "</div>"
      ],
      "text/plain": [
       "  player_name position   Games   At_bat    Runs    Hits  double_2B  \\\n",
       "1     H Aaron       RF  3298.0  12364.0  2174.0  3771.0      624.0   \n",
       "\n",
       "   third_baseman  home_run  run_batted_in  a_walk Strikeouts  stolen base   \\\n",
       "1           98.0     755.0         2297.0  1402.0       1383         240.0   \n",
       "\n",
       "  caught_stealing    AVG  on_base_percentage  slugging_percentage  \\\n",
       "1              73  0.305               0.374                0.555   \n",
       "\n",
       "   on_base_plus_slugging  \n",
       "1                  0.929  "
      ]
     },
     "execution_count": 45,
     "metadata": {},
     "output_type": "execute_result"
    }
   ],
   "source": [
    "df[df['run_batted_in'] == max_runsbattedin] #finding which player(s) got the most runs batted in"
   ]
  },
  {
   "cell_type": "markdown",
   "id": "119bf067-30c3-4608-9cb7-9be945e9933c",
   "metadata": {},
   "source": [
    "### 9. find which of these players got the most hits"
   ]
  },
  {
   "cell_type": "code",
   "execution_count": 48,
   "id": "4157e804-63e2-4c58-a914-8cb2f00b0ec1",
   "metadata": {},
   "outputs": [
    {
     "name": "stdout",
     "output_type": "stream",
     "text": [
      "4256.0\n"
     ]
    }
   ],
   "source": [
    "max_hits = df['Hits'].max() #finding max amount of hits made by a player(s)\n",
    "print(max_hits)"
   ]
  },
  {
   "cell_type": "code",
   "execution_count": 50,
   "id": "d6dccad9-86f7-4e1d-927e-f072dc59398b",
   "metadata": {},
   "outputs": [
    {
     "data": {
      "text/html": [
       "<div>\n",
       "<style scoped>\n",
       "    .dataframe tbody tr th:only-of-type {\n",
       "        vertical-align: middle;\n",
       "    }\n",
       "\n",
       "    .dataframe tbody tr th {\n",
       "        vertical-align: top;\n",
       "    }\n",
       "\n",
       "    .dataframe thead th {\n",
       "        text-align: right;\n",
       "    }\n",
       "</style>\n",
       "<table border=\"1\" class=\"dataframe\">\n",
       "  <thead>\n",
       "    <tr style=\"text-align: right;\">\n",
       "      <th></th>\n",
       "      <th>player_name</th>\n",
       "      <th>position</th>\n",
       "      <th>Games</th>\n",
       "      <th>At_bat</th>\n",
       "      <th>Runs</th>\n",
       "      <th>Hits</th>\n",
       "      <th>double_2B</th>\n",
       "      <th>third_baseman</th>\n",
       "      <th>home_run</th>\n",
       "      <th>run_batted_in</th>\n",
       "      <th>a_walk</th>\n",
       "      <th>Strikeouts</th>\n",
       "      <th>stolen base</th>\n",
       "      <th>caught_stealing</th>\n",
       "      <th>AVG</th>\n",
       "      <th>on_base_percentage</th>\n",
       "      <th>slugging_percentage</th>\n",
       "      <th>on_base_plus_slugging</th>\n",
       "    </tr>\n",
       "  </thead>\n",
       "  <tbody>\n",
       "    <tr>\n",
       "      <th>446</th>\n",
       "      <td>P Rose</td>\n",
       "      <td>1B</td>\n",
       "      <td>3562.0</td>\n",
       "      <td>14053.0</td>\n",
       "      <td>2165.0</td>\n",
       "      <td>4256.0</td>\n",
       "      <td>746.0</td>\n",
       "      <td>135.0</td>\n",
       "      <td>160.0</td>\n",
       "      <td>1314.0</td>\n",
       "      <td>1566.0</td>\n",
       "      <td>1143</td>\n",
       "      <td>198.0</td>\n",
       "      <td>149</td>\n",
       "      <td>0.303</td>\n",
       "      <td>0.375</td>\n",
       "      <td>0.409</td>\n",
       "      <td>0.784</td>\n",
       "    </tr>\n",
       "  </tbody>\n",
       "</table>\n",
       "</div>"
      ],
      "text/plain": [
       "    player_name position   Games   At_bat    Runs    Hits  double_2B  \\\n",
       "446      P Rose       1B  3562.0  14053.0  2165.0  4256.0      746.0   \n",
       "\n",
       "     third_baseman  home_run  run_batted_in  a_walk Strikeouts  stolen base   \\\n",
       "446          135.0     160.0         1314.0  1566.0       1143         198.0   \n",
       "\n",
       "    caught_stealing    AVG  on_base_percentage  slugging_percentage  \\\n",
       "446             149  0.303               0.375                0.409   \n",
       "\n",
       "     on_base_plus_slugging  \n",
       "446                  0.784  "
      ]
     },
     "execution_count": 50,
     "metadata": {},
     "output_type": "execute_result"
    }
   ],
   "source": [
    "df[df['Hits'] == max_hits] #finding which player(s) got the most hits"
   ]
  },
  {
   "cell_type": "markdown",
   "id": "2129d136-ad8e-4536-8fac-1b6452443a5e",
   "metadata": {},
   "source": [
    "### 10. find which players attended the least amount of games"
   ]
  },
  {
   "cell_type": "code",
   "execution_count": 53,
   "id": "599fa480-456d-48fa-8792-2a22ac9ac2ac",
   "metadata": {},
   "outputs": [
    {
     "name": "stdout",
     "output_type": "stream",
     "text": [
      "2.0\n"
     ]
    }
   ],
   "source": [
    "min_games = df['Games'].min() #finding min amount of games attended by a player(s)\n",
    "print(min_games)"
   ]
  },
  {
   "cell_type": "code",
   "execution_count": 55,
   "id": "511b34a0-83a4-463e-bc36-6a6e4a362383",
   "metadata": {},
   "outputs": [
    {
     "data": {
      "text/html": [
       "<div>\n",
       "<style scoped>\n",
       "    .dataframe tbody tr th:only-of-type {\n",
       "        vertical-align: middle;\n",
       "    }\n",
       "\n",
       "    .dataframe tbody tr th {\n",
       "        vertical-align: top;\n",
       "    }\n",
       "\n",
       "    .dataframe thead th {\n",
       "        text-align: right;\n",
       "    }\n",
       "</style>\n",
       "<table border=\"1\" class=\"dataframe\">\n",
       "  <thead>\n",
       "    <tr style=\"text-align: right;\">\n",
       "      <th></th>\n",
       "      <th>player_name</th>\n",
       "      <th>position</th>\n",
       "      <th>Games</th>\n",
       "      <th>At_bat</th>\n",
       "      <th>Runs</th>\n",
       "      <th>Hits</th>\n",
       "      <th>double_2B</th>\n",
       "      <th>third_baseman</th>\n",
       "      <th>home_run</th>\n",
       "      <th>run_batted_in</th>\n",
       "      <th>a_walk</th>\n",
       "      <th>Strikeouts</th>\n",
       "      <th>stolen base</th>\n",
       "      <th>caught_stealing</th>\n",
       "      <th>AVG</th>\n",
       "      <th>on_base_percentage</th>\n",
       "      <th>slugging_percentage</th>\n",
       "      <th>on_base_plus_slugging</th>\n",
       "    </tr>\n",
       "  </thead>\n",
       "  <tbody>\n",
       "    <tr>\n",
       "      <th>773</th>\n",
       "      <td>D Brouthers</td>\n",
       "      <td>1B</td>\n",
       "      <td>2.0</td>\n",
       "      <td>6711.0</td>\n",
       "      <td>1523.0</td>\n",
       "      <td>2296.0</td>\n",
       "      <td>460.0</td>\n",
       "      <td>205.0</td>\n",
       "      <td>106.0</td>\n",
       "      <td>1296.0</td>\n",
       "      <td>840.0</td>\n",
       "      <td>238</td>\n",
       "      <td>256.0</td>\n",
       "      <td>--</td>\n",
       "      <td>0.342</td>\n",
       "      <td>0.423</td>\n",
       "      <td>0.519</td>\n",
       "      <td>0.942</td>\n",
       "    </tr>\n",
       "  </tbody>\n",
       "</table>\n",
       "</div>"
      ],
      "text/plain": [
       "     player_name position  Games  At_bat    Runs    Hits  double_2B  \\\n",
       "773  D Brouthers       1B    2.0  6711.0  1523.0  2296.0      460.0   \n",
       "\n",
       "     third_baseman  home_run  run_batted_in  a_walk Strikeouts  stolen base   \\\n",
       "773          205.0     106.0         1296.0   840.0        238         256.0   \n",
       "\n",
       "    caught_stealing    AVG  on_base_percentage  slugging_percentage  \\\n",
       "773              --  0.342               0.423                0.519   \n",
       "\n",
       "     on_base_plus_slugging  \n",
       "773                  0.942  "
      ]
     },
     "execution_count": 55,
     "metadata": {},
     "output_type": "execute_result"
    }
   ],
   "source": [
    "df[df['Games'] == min_games] #finding which player(s) attended the least amount of games"
   ]
  },
  {
   "cell_type": "markdown",
   "id": "7c9ad8db-8a96-417b-a1eb-210523ffb15f",
   "metadata": {},
   "source": [
    "Explanation/Observations: D Brouthers attended only 2 games but had 6711.0 at bats which doesn't make a lot of sense. So, at least for this player, this data might not be completely accurate."
   ]
  },
  {
   "cell_type": "markdown",
   "id": "3c19be8d-a272-4336-97fb-1396d371177a",
   "metadata": {},
   "source": [
    "### 11. find the most common positions that these players play"
   ]
  },
  {
   "cell_type": "code",
   "execution_count": 69,
   "id": "f9cf93a5-d17e-4f88-b13c-b35dd7091508",
   "metadata": {},
   "outputs": [
    {
     "name": "stdout",
     "output_type": "stream",
     "text": [
      "C\n"
     ]
    }
   ],
   "source": [
    "most_common_position = df['position'].value_counts().index[1] #index[1] specifies the column 'position'\n",
    "print(most_common_position)"
   ]
  },
  {
   "cell_type": "markdown",
   "id": "af062b45-504f-4682-b3ed-b5654ac23986",
   "metadata": {},
   "source": [
    "Explanation/Observations: C is the most common position which means that most of these players are catchers."
   ]
  },
  {
   "cell_type": "markdown",
   "id": "6a1a1b76-18ea-4888-aa9b-de172f579228",
   "metadata": {},
   "source": [
    "### 12. find the most common amount of homeruns hit"
   ]
  },
  {
   "cell_type": "code",
   "execution_count": 73,
   "id": "945dd3ab-b7ec-4705-b0ce-89ef4ec1399f",
   "metadata": {},
   "outputs": [
    {
     "name": "stdout",
     "output_type": "stream",
     "text": [
      "25.0\n"
     ]
    }
   ],
   "source": [
    "most_common_homeruns = df['home_run'].value_counts().index[8] #index[8] specifies the column 'position'\n",
    "print(most_common_homeruns)"
   ]
  }
 ],
 "metadata": {
  "kernelspec": {
   "display_name": "Python 3 (ipykernel)",
   "language": "python",
   "name": "python3"
  },
  "language_info": {
   "codemirror_mode": {
    "name": "ipython",
    "version": 3
   },
   "file_extension": ".py",
   "mimetype": "text/x-python",
   "name": "python",
   "nbconvert_exporter": "python",
   "pygments_lexer": "ipython3",
   "version": "3.12.7"
  }
 },
 "nbformat": 4,
 "nbformat_minor": 5
}
